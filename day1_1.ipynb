{
 "cells": [
  {
   "cell_type": "code",
   "execution_count": null,
   "id": "2376824f",
   "metadata": {},
   "outputs": [],
   "source": [
    "#자료 구조 4가지 : List, tuple, dictionary, set\n",
    "#list는 배열 java에서는 ArrayList\n",
    "#tuple은 배열과 비슷하지만 한번 선언시 변하지 않는다\n",
    "#dictionary는 키 값으로 관리 java에서는 hashmap\n",
    "# set 중복 x"
   ]
  },
  {
   "cell_type": "code",
   "execution_count": 5,
   "id": "ad0e1bc6",
   "metadata": {},
   "outputs": [
    {
     "data": {
      "text/plain": [
       "[1, 2, 3, 4, 5]"
      ]
     },
     "execution_count": 5,
     "metadata": {},
     "output_type": "execute_result"
    }
   ],
   "source": [
    "L = [1,2,3,4,5]\n",
    "L"
   ]
  },
  {
   "cell_type": "code",
   "execution_count": 7,
   "id": "409811b8",
   "metadata": {},
   "outputs": [
    {
     "data": {
      "text/plain": [
       "(1, 2, 3)"
      ]
     },
     "execution_count": 7,
     "metadata": {},
     "output_type": "execute_result"
    }
   ],
   "source": [
    "T = (1,2,3)\n",
    "T"
   ]
  },
  {
   "cell_type": "code",
   "execution_count": null,
   "id": "76f89a4c",
   "metadata": {},
   "outputs": [],
   "source": [
    "D = {'name': '홍길동','age': 25,'email': 'hong@aaa.com'}\n",
    "D"
   ]
  },
  {
   "cell_type": "code",
   "execution_count": 9,
   "id": "79460fd3",
   "metadata": {},
   "outputs": [
    {
     "data": {
      "text/plain": [
       "{1, 2, 3, 4}"
      ]
     },
     "execution_count": 9,
     "metadata": {},
     "output_type": "execute_result"
    }
   ],
   "source": [
    "S = set([1,2,2,3,4,2,3,3,2,4])\n",
    "S"
   ]
  },
  {
   "cell_type": "code",
   "execution_count": 10,
   "id": "a9f2894a",
   "metadata": {},
   "outputs": [],
   "source": [
    "#제어문 : 조건문(if), 반복문(while,for)"
   ]
  },
  {
   "cell_type": "code",
   "execution_count": null,
   "id": "54c2c527",
   "metadata": {},
   "outputs": [],
   "source": [
    "score = 75\n",
    "if(score>=91):\n",
    "    print(\"A\")\n",
    "elif score>=81:\n",
    "    print(\"B\")\n",
    "elif score>=71:\n",
    "    print(\"C\")\n",
    "elif score>=61:\n",
    "    print(\"D\")\n",
    "else:\n",
    "    print(\"F\")"
   ]
  },
  {
   "cell_type": "code",
   "execution_count": 15,
   "id": "87b5a9d0",
   "metadata": {},
   "outputs": [
    {
     "name": "stdout",
     "output_type": "stream",
     "text": [
      "5050\n"
     ]
    }
   ],
   "source": [
    "i =1\n",
    "hap =0\n",
    "while i<=100:\n",
    "    hap = hap +i\n",
    "    i = i+1\n",
    "print(hap)"
   ]
  },
  {
   "cell_type": "code",
   "execution_count": 14,
   "id": "6deea936",
   "metadata": {},
   "outputs": [
    {
     "name": "stdout",
     "output_type": "stream",
     "text": [
      "hap= 5050\n"
     ]
    }
   ],
   "source": [
    "hap =0\n",
    "for i in range(1,101):\n",
    "    hap = hap+i\n",
    "print(\"hap=\",hap)"
   ]
  },
  {
   "cell_type": "code",
   "execution_count": 41,
   "id": "8b84dd6c",
   "metadata": {},
   "outputs": [
    {
     "name": "stdout",
     "output_type": "stream",
     "text": [
      "[5, 6, 22, 28, 30, 44]\n",
      "[2, 10, 11, 15, 35, 36]\n",
      "[9, 10, 17, 27, 29, 39]\n",
      "[3, 11, 14, 18, 35, 43]\n",
      "[1, 10, 30, 32, 38, 42]\n"
     ]
    }
   ],
   "source": [
    "# 로또 번호 생성 예제\n",
    "# 1. 1부터 45 중에서 6개를 뽑는다 : random.sample(전체, 몇개)\n",
    "# 2. 정렬 : sorted(정렬)\n",
    "# 3. 합계가 100~170인 것만 사용 : if문, sum(리스트)\n",
    "# 4. 5게임 : while \n",
    "\n",
    "import random\n",
    "k=1\n",
    "while k<=5:\n",
    "    lotto = sorted(random.sample(range(1,46),6))\n",
    "    k=k+1\n",
    "    lottosum = sum(lotto)\n",
    "    if(lottosum>=100  and lottosum<=170):\n",
    "       print(lotto)\n",
    "    else:\n",
    "        k-=1\n"
   ]
  },
  {
   "cell_type": "code",
   "execution_count": 59,
   "id": "83a3a7a4",
   "metadata": {},
   "outputs": [
    {
     "name": "stdout",
     "output_type": "stream",
     "text": [
      "1025회\n",
      "7\n"
     ]
    }
   ],
   "source": [
    "#로또 사이트 스크래핑(수집)\n",
    "\n",
    "url = \"https://dhlottery.co.kr/gameResult.do?method=byWin\"\n",
    "from bs4 import BeautifulSoup\n",
    "from urllib.request import urlopen #url을 사용하게 하는 라이브러리 함수\n",
    "html = urlopen(url)\n",
    "soup = BeautifulSoup(html,\"lxml\") #parer html을 한 문자씩 읽는다\n",
    "\n",
    "# 1. 몇회\n",
    "nth = soup.select_one(\".win_result h4 strong\") # <div class = \"win_result\" ...>를 선택한다\n",
    "print(nth.string) # <strong> 1025회 </strong>\n",
    "\n",
    "# 2. 당첨번호 6개\n",
    "# <div class = \"num_win\" ...>\n",
    "spans = soup.select(\".num.win span\")\n",
    "lotto = [int(span.string) for span in spans]\n",
    "lotto\n",
    "\n",
    "# 3. 보너스 번호\n",
    "# <div class = \"num bonus\" ...>\n",
    "bonus = soup.select_one(\".num.bonus span\")\n",
    "print(bonus.string) #<span class=\"ball_645 lrg ball1\">7</span>\n"
   ]
  },
  {
   "cell_type": "code",
   "execution_count": 58,
   "id": "5572f66f",
   "metadata": {},
   "outputs": [
    {
     "data": {
      "text/plain": [
       "['8', '9', '20', '25', '29', '33']"
      ]
     },
     "execution_count": 58,
     "metadata": {},
     "output_type": "execute_result"
    }
   ],
   "source": [
    "#lotto = [span.string for span in spans]를 풀어쓴 것\n",
    "L = []\n",
    "for span in spans:\n",
    "    L.append(span.string)\n",
    "L"
   ]
  },
  {
   "cell_type": "code",
   "execution_count": null,
   "id": "e54dbcf9",
   "metadata": {},
   "outputs": [],
   "source": []
  }
 ],
 "metadata": {
  "kernelspec": {
   "display_name": "Python 3 (ipykernel)",
   "language": "python",
   "name": "python3"
  },
  "language_info": {
   "codemirror_mode": {
    "name": "ipython",
    "version": 3
   },
   "file_extension": ".py",
   "mimetype": "text/x-python",
   "name": "python",
   "nbconvert_exporter": "python",
   "pygments_lexer": "ipython3",
   "version": "3.9.12"
  }
 },
 "nbformat": 4,
 "nbformat_minor": 5
}
